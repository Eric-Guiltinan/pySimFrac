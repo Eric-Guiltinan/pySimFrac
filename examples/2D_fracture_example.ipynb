{
 "cells": [
  {
   "cell_type": "markdown",
   "id": "281c71c5-780e-4071-93de-f007cce05abe",
   "metadata": {},
   "source": [
    "# 2D Fracture Voxelization and Analysis"
   ]
  },
  {
   "cell_type": "code",
   "execution_count": 1,
   "id": "9876473f",
   "metadata": {},
   "outputs": [],
   "source": [
    "import os\n",
    "from subprocess import run\n",
    "import pandas as pd\n",
    "import matplotlib.pyplot as plt\n",
    "import numpy as np\n",
    "from copy import deepcopy\n",
    "\n",
    "from scipy.ndimage import distance_transform_edt\n",
    "\n",
    "from pysimfrac import SimFrac"
   ]
  },
  {
   "cell_type": "markdown",
   "id": "b80082da",
   "metadata": {},
   "source": [
    "## Helper functions"
   ]
  },
  {
   "cell_type": "code",
   "execution_count": 2,
   "id": "1c30a444",
   "metadata": {},
   "outputs": [],
   "source": [
    "def tile_slice(frac, ind):\n",
    "    \"\"\"Tile Slice through the x-axis\n",
    "\n",
    "    Parameters\n",
    "    -------------\n",
    "        frac : object\n",
    "            Object with attributes 'top' and 'bottom' which are numpy arrays.\n",
    "        ind : int\n",
    "            Index or slice to repeat through the x-axis.\n",
    "\n",
    "    Returns\n",
    "    ------------\n",
    "        None. The function modifies the 'top' and 'bottom' attributes of the `frac` object in-place.\n",
    "\n",
    "    Notes\n",
    "    ---------\n",
    "        This function repeats a slice (ind) through the x-axis for the 'top' and 'bottom' attributes of the `frac` object.\n",
    "    \"\"\"\n",
    "    frac.top = np.tile( frac.top[ind_slice], (frac.top.shape[1], 1))\n",
    "    frac.bottom = np.tile( frac.bottom[ind_slice], (frac.top.shape[1], 1))"
   ]
  },
  {
   "cell_type": "code",
   "execution_count": 3,
   "id": "1ecae223",
   "metadata": {},
   "outputs": [],
   "source": [
    "def calc_ap(frac_3D):\n",
    "    \"\"\"Calculate Mean Aperture of a Slice\n",
    "\n",
    "    Parameters\n",
    "    -------------\n",
    "        frac_3D : np.array\n",
    "            3D numpy array representing the fracture. The value '1' in the array indicates the presence of a fracture.\n",
    "\n",
    "    Returns\n",
    "    ------------\n",
    "        float\n",
    "            Mean aperture of the first slice. It is calculated as the fraction of cells with a fracture (value of 1) in the first slice.\n",
    "\n",
    "    Notes\n",
    "    ---------\n",
    "        This function calculates the mean aperture of the first slice in the 3D array. It assumes all slices have the same aperture properties.\n",
    "    \"\"\"\n",
    "    return np.sum(frac_3D[0,]==1)/frac_3D.shape[0]"
   ]
  },
  {
   "cell_type": "code",
   "execution_count": 4,
   "id": "4c34b0ff",
   "metadata": {},
   "outputs": [],
   "source": [
    "def smallest_throat(frac_3D):\n",
    "    \"\"\"Calculate Size of the Smallest Constriction (Throat) \n",
    "\n",
    "    Parameters\n",
    "    -------------\n",
    "        frac_3D : np.array\n",
    "            3D numpy array representing the fracture. \n",
    "\n",
    "    Returns\n",
    "    ------------\n",
    "        int\n",
    "            Size of the smallest constriction or \"throat\" in the fracture.\n",
    "\n",
    "    Notes\n",
    "    ---------\n",
    "        This function calculates the size of the smallest constriction, also known as a \"throat\", in the 3D array.\n",
    "        It does so by multiplying the first slice of the array by a linear gradient and then counting the occurrences of unique values.\n",
    "        A visualization of the multiplied slice is displayed using `plt.imshow`.\n",
    "        An assertion is used to ensure that the fracture is connected by checking that the number of unique counts matches the slice size.\n",
    "    \"\"\"\n",
    "    linear = np.arange( 0,frac_3D.shape[0] )*frac_3D[0,].T # multiplies frac times a linear gradient\n",
    "    plt.imshow(linear)\n",
    "    _, count = np.unique(linear, return_counts=True) # count the number of occurences of unique numbers\n",
    "    assert count.size == frac_3D.shape[0] # this makes sure that it's connected\n",
    "    return np.min(count)  # returns the size of the smallest \"throat\""
   ]
  },
  {
   "cell_type": "code",
   "execution_count": 5,
   "id": "9dd55048-a4cb-48f9-a4e8-f8332fd9540d",
   "metadata": {},
   "outputs": [],
   "source": [
    "def voxelize_targetsize(self, size=128):\n",
    "\n",
    "    \"\"\"Voxelize the Fracture with a Target Size\n",
    "\n",
    "    Parameters\n",
    "    -------------\n",
    "        size : int, optional\n",
    "            Target size for the voxelized 3D array. Default is 128.\n",
    "\n",
    "    Returns\n",
    "    ------------\n",
    "        None. The function modifies the 'frac_3D' attribute of the object in-place.\n",
    "\n",
    "    Notes\n",
    "    ---------\n",
    "        This function voxelize the fracture based on a given target size. It ensures the following:\n",
    "        1. There are no negative apertures by invoking the `aperture_check` method.\n",
    "        2. Resets any negative values in the 'bottom' attribute to 0 using `reset_bottom`.\n",
    "        3. Calculates the number of solid voxels needed and adjusts the z-dimension to ensure the fracture is lined.\n",
    "        4. If the computed z-size exceeds certain thresholds, warnings or errors are raised.\n",
    "        5. The fracture is then voxelized by iterating through its layers and adjusting the indices based on the calculated solid voxels.\n",
    "\n",
    "        The resulting voxelized 3D array is stored in the 'frac_3D' attribute of the object.\n",
    "    \"\"\"\n",
    "    \n",
    "    import numpy.lib.index_tricks as ndi\n",
    "\n",
    "    self.aperture_check()  # check that there are no negative apertures\n",
    "    self.reset_bottom()  # push the negative values to 0\n",
    "    solid_voxels = size - np.ceil(self.top.max()) # calculate how many voxels are needed\n",
    "    z_size = np.ceil(self.top.max() + solid_voxels)  # add solid voxels so the fracture is lined\n",
    "\n",
    "    assert z_size==size\n",
    "\n",
    "    if z_size > 512:\n",
    "        print_warning('The size of the array might be too big')\n",
    "        if z_size > 2058:\n",
    "            ValueError(f'Target size {z_size} is too big')\n",
    "\n",
    "    # size of our 3D array\n",
    "    size_3D = (*self.top.shape, int(z_size))\n",
    "    flat_frac = np.zeros(np.prod(size_3D))\n",
    "\n",
    "    # array of positional indices\n",
    "    inds = np.arange(np.prod(size_3D)).reshape(size_3D)\n",
    "\n",
    "    ind_top = np.ceil(self.top + solid_voxels // 2).astype(int)\n",
    "    ind_bottom = np.ceil(self.bottom + solid_voxels // 2).astype(int)\n",
    "\n",
    "    max_ap = (ind_top - ind_bottom).max()\n",
    "    for i in range(max_ap):\n",
    "      \n",
    "        ind_layer = ind_bottom + i\n",
    "        ind_layer[ind_layer > ind_top] = 0\n",
    "\n",
    "        ind_1D = np.array([\n",
    "            inds.T[ind_layer[I]][(I[1], I[0])]\n",
    "            for I in ndi.ndindex(ind_layer.shape)\n",
    "        ])\n",
    "        flat_frac[ind_1D] = 1\n",
    "\n",
    "    self.frac_3D = flat_frac.reshape(size_3D)\n",
    "    self.frac_3D[:, :, 0] = 0"
   ]
  },
  {
   "cell_type": "code",
   "execution_count": 3,
   "id": "9c4fc75b",
   "metadata": {},
   "outputs": [
    {
     "ename": "TypeError",
     "evalue": "'NoneType' object is not subscriptable",
     "output_type": "error",
     "traceback": [
      "\u001b[0;31m---------------------------------------------------------------------------\u001b[0m",
      "\u001b[0;31mTypeError\u001b[0m                                 Traceback (most recent call last)",
      "Cell \u001b[0;32mIn[3], line 15\u001b[0m\n\u001b[1;32m     13\u001b[0m myfrac2 \u001b[38;5;241m=\u001b[39m deepcopy(myfrac)\n\u001b[1;32m     14\u001b[0m myfrac2\u001b[38;5;241m.\u001b[39mshear \u001b[38;5;241m=\u001b[39m \u001b[38;5;241m0.4\u001b[39m\n\u001b[0;32m---> 15\u001b[0m myfrac2\u001b[38;5;241m.\u001b[39mapply_shear()\n",
      "File \u001b[0;32m/opt/anaconda3/envs/daily/lib/python3.11/site-packages/pysimfrac-0.2-py3.11.egg/pysimfrac/src/analysis/modify_surfaces.py:168\u001b[0m, in \u001b[0;36mapply_shear\u001b[0;34m(self, shear)\u001b[0m\n\u001b[1;32m    166\u001b[0m \u001b[38;5;66;03m## translation of indices\u001b[39;00m\n\u001b[1;32m    167\u001b[0m idx \u001b[38;5;241m=\u001b[39m [(i \u001b[38;5;241m+\u001b[39m n) \u001b[38;5;241m%\u001b[39m \u001b[38;5;28mself\u001b[39m\u001b[38;5;241m.\u001b[39mnx \u001b[38;5;28;01mfor\u001b[39;00m i \u001b[38;5;129;01min\u001b[39;00m \u001b[38;5;28mrange\u001b[39m(\u001b[38;5;28mself\u001b[39m\u001b[38;5;241m.\u001b[39mnx)]\n\u001b[0;32m--> 168\u001b[0m \u001b[38;5;28mself\u001b[39m\u001b[38;5;241m.\u001b[39mtop \u001b[38;5;241m=\u001b[39m \u001b[38;5;28mself\u001b[39m\u001b[38;5;241m.\u001b[39mtop[:, idx]\n\u001b[1;32m    169\u001b[0m \u001b[38;5;28mself\u001b[39m\u001b[38;5;241m.\u001b[39mproject_to_aperture()\n\u001b[1;32m    170\u001b[0m \u001b[38;5;28mprint\u001b[39m(\u001b[38;5;124m\"\u001b[39m\u001b[38;5;124m--> Applying shear to fracture : Complete\u001b[39m\u001b[38;5;124m\"\u001b[39m)\n",
      "\u001b[0;31mTypeError\u001b[0m: 'NoneType' object is not subscriptable"
     ]
    }
   ],
   "source": [
    "%%capture\n",
    "myfrac = SimFrac( h = 0.01, lx = 1.28, ly = 1.28, method = \"spectral\")\n",
    "\n",
    "myfrac.params['aniso']['value'] = 0.0\n",
    "myfrac.params['H']['value'] = 0.7\n",
    "myfrac.params['roughness']['value'] = 5\n",
    "myfrac.params['mismatch']['value'] = 0.25\n",
    "myfrac.params['model']['value'] = 'smooth'\n",
    "myfrac.params['seed']['value'] = 1\n",
    "myfrac.create_fracture()\n",
    "#myfrac.voxelize_targetsize = voxelize_targetsize\n",
    "\n",
    "# create a sheared fracture\n",
    "myfrac2 = deepcopy(myfrac)\n",
    "myfrac2.shear = 0.4\n",
    "myfrac2.apply_shear()"
   ]
  },
  {
   "cell_type": "code",
   "execution_count": null,
   "id": "c537798a-1411-4eb0-bf84-080e9edd4791",
   "metadata": {},
   "outputs": [],
   "source": []
  },
  {
   "cell_type": "markdown",
   "id": "f904499e",
   "metadata": {},
   "source": [
    "## Create 2D fracture surfaces"
   ]
  },
  {
   "cell_type": "code",
   "execution_count": 4,
   "id": "38085a88",
   "metadata": {},
   "outputs": [
    {
     "ename": "AttributeError",
     "evalue": "'SimFrac' object has no attribute 'generate_2D'",
     "output_type": "error",
     "traceback": [
      "\u001b[0;31m---------------------------------------------------------------------------\u001b[0m",
      "\u001b[0;31mAttributeError\u001b[0m                            Traceback (most recent call last)",
      "Cell \u001b[0;32mIn[4], line 4\u001b[0m\n\u001b[1;32m      1\u001b[0m ind_slice \u001b[38;5;241m=\u001b[39m \u001b[38;5;241m49\u001b[39m\n\u001b[1;32m      3\u001b[0m \u001b[38;5;66;03m# -> frac 1\u001b[39;00m\n\u001b[0;32m----> 4\u001b[0m myfrac\u001b[38;5;241m.\u001b[39mgenerate_2D(\u001b[38;5;28mself\u001b[39m, ind\u001b[38;5;241m=\u001b[39m\u001b[38;5;241m49\u001b[39m, mean_aperture\u001b[38;5;241m=\u001b[39m\u001b[38;5;241m128\u001b[39m\u001b[38;5;241m/\u001b[39m\u001b[38;5;241m/\u001b[39m\u001b[38;5;241m3\u001b[39m)\n\u001b[1;32m      5\u001b[0m \u001b[38;5;66;03m#tile_slice(myfrac, ind_slice) # repeat the 49th slice across the x-axis\u001b[39;00m\n\u001b[1;32m      6\u001b[0m \u001b[38;5;66;03m#myfrac.set_mean_aperture(128//3) \u001b[39;00m\n\u001b[1;32m      7\u001b[0m myfrac\u001b[38;5;241m.\u001b[39mvoxelize(target_size\u001b[38;5;241m=\u001b[39m\u001b[38;5;241m128\u001b[39m)\n",
      "\u001b[0;31mAttributeError\u001b[0m: 'SimFrac' object has no attribute 'generate_2D'"
     ]
    }
   ],
   "source": [
    "%%capture\n",
    "ind_slice = 49 # tile along this index\n",
    "\n",
    "# -> frac 1\n",
    "myfrac.generate_2D(self, ind=ind_slice, mean_aperture=128//3)\n",
    "#tile_slice(myfrac, ind_slice) # repeat the 49th slice across the x-axis\n",
    "#myfrac.set_mean_aperture(128//3) \n",
    "myfrac.voxelize(target_size=128) \n",
    "\n",
    "# -> frac 2\n",
    "#myfrac2.generate_2D(self, ind=49, mean_aperture=128//3)\n",
    "#tile_slice(myfrac2, ind_slice) \n",
    "#myfrac2.set_mean_aperture(128//3) \n",
    "#myfrac2.voxelize_targetsize(myfrac2, size=128) "
   ]
  },
  {
   "cell_type": "markdown",
   "id": "769bd792",
   "metadata": {},
   "source": [
    "## Making sure that our 2D fractures are complaint"
   ]
  },
  {
   "cell_type": "code",
   "execution_count": null,
   "id": "442b2213-551f-4e0d-852b-148d25befdc2",
   "metadata": {},
   "outputs": [],
   "source": [
    "min_throat = 20"
   ]
  },
  {
   "cell_type": "code",
   "execution_count": null,
   "id": "8fc8b7d1",
   "metadata": {},
   "outputs": [],
   "source": [
    "print(f'The mean aperture of the fracture 1 is {calc_ap(myfrac.frac_3D)}') "
   ]
  },
  {
   "cell_type": "code",
   "execution_count": null,
   "id": "74342a65",
   "metadata": {},
   "outputs": [],
   "source": [
    "throat = smallest_throat(myfrac.frac_3D)\n",
    "print(f'The smallest throat of fracture 1 is {throat}')\n",
    "assert throat>min_throat"
   ]
  },
  {
   "cell_type": "code",
   "execution_count": null,
   "id": "66c81168",
   "metadata": {},
   "outputs": [],
   "source": [
    "print(f'The mean aperture of fracture 2 is {calc_ap(myfrac2.frac_3D)}')\n",
    "throat = smallest_throat(myfrac2.frac_3D)\n",
    "print(f'The smallest throat of the fracture 2 is {throat}')\n",
    "assert throat>min_throat"
   ]
  },
  {
   "cell_type": "code",
   "execution_count": null,
   "id": "cd6e05bf",
   "metadata": {},
   "outputs": [],
   "source": [
    "myfrac.set_mean_aperture(128//5); \n",
    "myfrac.voxelize_targetsize(myfrac, size=128);\n",
    "print(f'The mean aperture of the fracture  is {calc_ap(myfrac.frac_3D)}')\n",
    "throat = smallest_throat(myfrac.frac_3D)\n",
    "print(f'The smallest throat of the fracture 3 is {throat}')\n",
    "assert throat>min_throat"
   ]
  },
  {
   "cell_type": "code",
   "execution_count": null,
   "id": "5f41b61f",
   "metadata": {},
   "outputs": [],
   "source": [
    "plt.plot(myfrac.top[64,].squeeze().T, label='top')\n",
    "plt.plot(myfrac.bottom[64,].squeeze().T,  label='bottom')\n",
    "plt.plot(myfrac.top[64,].squeeze().T-myfrac.bottom[64,].squeeze().T,  label='aperture')\n",
    "plt.title('Periodic Fracture')\n",
    "plt.legend()"
   ]
  },
  {
   "cell_type": "code",
   "execution_count": null,
   "id": "3200502f",
   "metadata": {},
   "outputs": [],
   "source": []
  },
  {
   "cell_type": "code",
   "execution_count": null,
   "id": "4ba6142b-f115-4e32-9899-a34561d8f063",
   "metadata": {},
   "outputs": [],
   "source": []
  }
 ],
 "metadata": {
  "kernelspec": {
   "display_name": "Python 3 (ipykernel)",
   "language": "python",
   "name": "python3"
  },
  "language_info": {
   "codemirror_mode": {
    "name": "ipython",
    "version": 3
   },
   "file_extension": ".py",
   "mimetype": "text/x-python",
   "name": "python",
   "nbconvert_exporter": "python",
   "pygments_lexer": "ipython3",
   "version": "3.11.0"
  }
 },
 "nbformat": 4,
 "nbformat_minor": 5
}
